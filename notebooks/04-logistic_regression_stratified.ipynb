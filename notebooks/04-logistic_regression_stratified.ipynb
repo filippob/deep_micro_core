{
 "cells": [
  {
   "cell_type": "markdown",
   "metadata": {},
   "source": [
    "# Linear Regression with stratified sampling\n",
    "\n",
    "Try to apply a linear regression model to the merged otu table"
   ]
  },
  {
   "cell_type": "code",
   "execution_count": 1,
   "metadata": {},
   "outputs": [],
   "source": [
    "import csv\n",
    "import logging\n",
    "\n",
    "import biom\n",
    "import pandas as pd\n",
    "import numpy as np\n",
    "import matplotlib.pyplot as plt\n",
    "import joblib\n",
    "from sklearn.model_selection import GroupShuffleSplit, GridSearchCV\n",
    "from sklearn.preprocessing import StandardScaler\n",
    "from sklearn.linear_model import LogisticRegression\n",
    "from sklearn.multiclass import OneVsRestClassifier\n",
    "from sklearn.metrics import accuracy_score, classification_report, confusion_matrix, ConfusionMatrixDisplay\n",
    "\n",
    "from src import project_directory\n",
    "from src.database import get_session, Sample, Dataset"
   ]
  },
  {
   "cell_type": "code",
   "execution_count": null,
   "metadata": {},
   "outputs": [],
   "source": [
    "session = get_session()\n",
    "logging.basicConfig()\n",
    "logging.getLogger('sqlalchemy.engine.Engine').setLevel(logging.ERROR)"
   ]
  },
  {
   "cell_type": "markdown",
   "metadata": {},
   "source": [
    "Ok simply load otu table and then add tissue as metadata:"
   ]
  },
  {
   "cell_type": "code",
   "execution_count": 3,
   "metadata": {},
   "outputs": [],
   "source": [
    "biom_file = project_directory / \"merged_results/export/table/feature-table.biom\"\n",
    "table = biom.load_table(biom_file)"
   ]
  },
  {
   "cell_type": "code",
   "execution_count": 4,
   "metadata": {},
   "outputs": [
    {
     "name": "stdout",
     "output_type": "stream",
     "text": [
      "['H_10_S10_L001' 'H_11_S11_L001' 'H_12_S12_L001' 'H_13_S13_L001'\n",
      " 'H_14_S14_L001' 'H_15_S15_L001' 'H_16_S16_L001' 'H_17_S17_L001'\n",
      " 'H_18_S18_L001' 'H_19_S19_L001']\n"
     ]
    }
   ],
   "source": [
    "# Get the list of samples in the OTU table\n",
    "samples = table.ids(axis='sample')\n",
    "print(samples[:10])"
   ]
  },
  {
   "cell_type": "code",
   "execution_count": 5,
   "metadata": {},
   "outputs": [],
   "source": [
    "# Query the database for samples in the samples list and collect the tissue\n",
    "queried_samples = session.query(Sample).filter(Sample.sample_id.in_(samples)).all()\n",
    "sample2tissue = {sample.sample_id: sample.dataset.tissue for sample in queried_samples}\n",
    "sample2dataset = {sample.sample_id: sample.dataset_id for sample in queried_samples}"
   ]
  },
  {
   "cell_type": "code",
   "execution_count": 6,
   "metadata": {},
   "outputs": [
    {
     "name": "stdout",
     "output_type": "stream",
     "text": [
      "defaultdict(<function Table._cast_metadata.<locals>.cast_metadata.<locals>.<lambda> at 0x7f30f40bbaf0>, {'tissue': 'hindgut', 'dataset': 3})\n"
     ]
    }
   ],
   "source": [
    "# Create an empty dataframe with the same indices as the samples\n",
    "metadata = pd.DataFrame(index=samples)\n",
    "\n",
    "# Add the tissue as new metadata\n",
    "metadata['tissue'] = metadata.index.map(sample2tissue)\n",
    "metadata['dataset'] = metadata.index.map(sample2dataset)\n",
    "\n",
    "# Update the OTU table with the new metadata\n",
    "table.add_metadata(metadata.to_dict(orient='index'), axis='sample')\n",
    "\n",
    "# Verify that the tissue has been added correctly\n",
    "print(table.metadata(axis='sample')[0])"
   ]
  },
  {
   "cell_type": "markdown",
   "metadata": {},
   "source": [
    "Transform the otu table to a pandas dataframe and then add the tissue as metadata.\n",
    "Table should be transposed to have samples as rows and otus as columns."
   ]
  },
  {
   "cell_type": "code",
   "execution_count": 7,
   "metadata": {},
   "outputs": [],
   "source": [
    "# Convert the OTU table to a dataframe\n",
    "otu_df = pd.DataFrame(table.matrix_data.toarray(), index=table.ids(axis='observation'), columns=table.ids(axis='sample'))\n",
    "\n",
    "# Add the tissue metadata as a new column\n",
    "otu_df = otu_df.transpose()\n",
    "otu_df['tissue'] = otu_df.index.map(sample2tissue)\n",
    "otu_df['dataset'] = otu_df.index.map(sample2dataset)"
   ]
  },
  {
   "cell_type": "markdown",
   "metadata": {},
   "source": [
    "Inspect the create dataframe:"
   ]
  },
  {
   "cell_type": "code",
   "execution_count": 8,
   "metadata": {},
   "outputs": [
    {
     "data": {
      "application/vnd.microsoft.datawrangler.viewer.v0+json": {
       "columns": [
        {
         "name": "index",
         "rawType": "object",
         "type": "string"
        },
        {
         "name": "tissue",
         "rawType": "object",
         "type": "string"
        },
        {
         "name": "dataset",
         "rawType": "int64",
         "type": "integer"
        }
       ],
       "conversionMethod": "pd.DataFrame",
       "ref": "8c892367-c65b-498d-865d-39c1019ffd27",
       "rows": [
        [
         "H_10_S10_L001",
         "hindgut",
         "3"
        ],
        [
         "H_11_S11_L001",
         "hindgut",
         "3"
        ],
        [
         "H_12_S12_L001",
         "hindgut",
         "3"
        ],
        [
         "H_13_S13_L001",
         "hindgut",
         "3"
        ],
        [
         "H_14_S14_L001",
         "hindgut",
         "3"
        ]
       ],
       "shape": {
        "columns": 2,
        "rows": 5
       }
      },
      "text/html": [
       "<div>\n",
       "<style scoped>\n",
       "    .dataframe tbody tr th:only-of-type {\n",
       "        vertical-align: middle;\n",
       "    }\n",
       "\n",
       "    .dataframe tbody tr th {\n",
       "        vertical-align: top;\n",
       "    }\n",
       "\n",
       "    .dataframe thead th {\n",
       "        text-align: right;\n",
       "    }\n",
       "</style>\n",
       "<table border=\"1\" class=\"dataframe\">\n",
       "  <thead>\n",
       "    <tr style=\"text-align: right;\">\n",
       "      <th></th>\n",
       "      <th>tissue</th>\n",
       "      <th>dataset</th>\n",
       "    </tr>\n",
       "  </thead>\n",
       "  <tbody>\n",
       "    <tr>\n",
       "      <th>H_10_S10_L001</th>\n",
       "      <td>hindgut</td>\n",
       "      <td>3</td>\n",
       "    </tr>\n",
       "    <tr>\n",
       "      <th>H_11_S11_L001</th>\n",
       "      <td>hindgut</td>\n",
       "      <td>3</td>\n",
       "    </tr>\n",
       "    <tr>\n",
       "      <th>H_12_S12_L001</th>\n",
       "      <td>hindgut</td>\n",
       "      <td>3</td>\n",
       "    </tr>\n",
       "    <tr>\n",
       "      <th>H_13_S13_L001</th>\n",
       "      <td>hindgut</td>\n",
       "      <td>3</td>\n",
       "    </tr>\n",
       "    <tr>\n",
       "      <th>H_14_S14_L001</th>\n",
       "      <td>hindgut</td>\n",
       "      <td>3</td>\n",
       "    </tr>\n",
       "  </tbody>\n",
       "</table>\n",
       "</div>"
      ],
      "text/plain": [
       "                tissue  dataset\n",
       "H_10_S10_L001  hindgut        3\n",
       "H_11_S11_L001  hindgut        3\n",
       "H_12_S12_L001  hindgut        3\n",
       "H_13_S13_L001  hindgut        3\n",
       "H_14_S14_L001  hindgut        3"
      ]
     },
     "execution_count": 8,
     "metadata": {},
     "output_type": "execute_result"
    }
   ],
   "source": [
    "otu_df[['tissue', 'dataset']].head()"
   ]
  },
  {
   "cell_type": "code",
   "execution_count": 9,
   "metadata": {},
   "outputs": [
    {
     "data": {
      "text/plain": [
       "tissue\n",
       "milk       379\n",
       "hindgut    141\n",
       "rumen      118\n",
       "Name: count, dtype: int64"
      ]
     },
     "execution_count": 9,
     "metadata": {},
     "output_type": "execute_result"
    }
   ],
   "source": [
    "otu_df[\"tissue\"].value_counts()"
   ]
  },
  {
   "cell_type": "markdown",
   "metadata": {},
   "source": [
    "Transform tables:"
   ]
  },
  {
   "cell_type": "code",
   "execution_count": 10,
   "metadata": {},
   "outputs": [],
   "source": [
    "groups = otu_df[\"dataset\"]\n",
    "X = otu_df.drop(columns=[\"tissue\", \"dataset\"])\n",
    "y = otu_df[\"tissue\"]"
   ]
  },
  {
   "cell_type": "markdown",
   "metadata": {},
   "source": [
    "So the point is that we have 6 datasets for 3 tissues: if I simply divide the dataset using `train_test_split, I will have in test set samples from the same dataset of the training set: this could be a data leakage. So let's try to split the dataset in\n",
    "order to not have samples in the test set from the same dataset of the training set:"
   ]
  },
  {
   "cell_type": "code",
   "execution_count": null,
   "metadata": {},
   "outputs": [],
   "source": [
    "gss = GroupShuffleSplit(test_size=0.5, n_splits=1, random_state=42)\n",
    "train_idx, test_idx = next(gss.split(X, y, groups=groups))"
   ]
  },
  {
   "cell_type": "markdown",
   "metadata": {},
   "source": [
    "A test of groups:"
   ]
  },
  {
   "cell_type": "code",
   "execution_count": 12,
   "metadata": {},
   "outputs": [
    {
     "name": "stdout",
     "output_type": "stream",
     "text": [
      "train groups: [(13, 'hindgut', 'RABOLA'), (14, 'rumen', 'RABOLA'), (15, 'milk', 'RABOLA')]\n",
      "test groups: [(16, 'milk', 'RABOLA'), (2, 'rumen', 'FARM-INN'), (3, 'hindgut', 'FARM-INN')]\n"
     ]
    }
   ],
   "source": [
    "train_groups = []\n",
    "test_groups = []\n",
    "\n",
    "for group in set(groups.iloc[train_idx]):\n",
    "    group = int(group)\n",
    "    dataset = session.query(Dataset).filter(Dataset.id == group).one()\n",
    "    train_groups.append((group, dataset.tissue, dataset.project))\n",
    "print(\"train groups:\", train_groups)\n",
    "\n",
    "for group in set(groups.iloc[test_idx]):\n",
    "    group = int(group)\n",
    "    dataset = session.query(Dataset).filter(Dataset.id == group).one()\n",
    "    test_groups.append((group, dataset.tissue, dataset.project))\n",
    "print(\"test groups:\", test_groups)\n"
   ]
  },
  {
   "cell_type": "markdown",
   "metadata": {},
   "source": [
    "Ok, now create train and test set relyin on indexes:"
   ]
  },
  {
   "cell_type": "code",
   "execution_count": 13,
   "metadata": {},
   "outputs": [],
   "source": [
    "X_train, X_test = X.iloc[train_idx], X.iloc[test_idx]\n",
    "y_train, y_test = y.iloc[train_idx], y.iloc[test_idx]"
   ]
  },
  {
   "cell_type": "markdown",
   "metadata": {},
   "source": [
    "## Creating a model"
   ]
  },
  {
   "cell_type": "code",
   "execution_count": 14,
   "metadata": {},
   "outputs": [],
   "source": [
    "scaler = StandardScaler()\n",
    "scaled_X_train = scaler.fit_transform(X_train)\n",
    "scaled_X_test = scaler.transform(X_test)"
   ]
  },
  {
   "cell_type": "code",
   "execution_count": null,
   "metadata": {},
   "outputs": [],
   "source": [
    "model = LogisticRegression(solver=\"liblinear\", max_iter=1000)\n",
    "ovr_classifier = OneVsRestClassifier(model)"
   ]
  },
  {
   "cell_type": "code",
   "execution_count": null,
   "metadata": {},
   "outputs": [],
   "source": [
    "param_grid = {'C': [0.01, 0.1, 1, 10, 100, 1000], 'penalty': ['l1', 'l2']}"
   ]
  },
  {
   "cell_type": "code",
   "execution_count": null,
   "metadata": {},
   "outputs": [],
   "source": [
    "grid_search = GridSearchCV(model, param_grid=param_grid, n_jobs=-1, verbose=1, cv=5)"
   ]
  },
  {
   "cell_type": "code",
   "execution_count": 18,
   "metadata": {},
   "outputs": [
    {
     "name": "stdout",
     "output_type": "stream",
     "text": [
      "Fitting 5 folds for each of 12 candidates, totalling 60 fits\n"
     ]
    },
    {
     "data": {
      "text/html": [
       "<style>#sk-container-id-1 {\n",
       "  /* Definition of color scheme common for light and dark mode */\n",
       "  --sklearn-color-text: #000;\n",
       "  --sklearn-color-text-muted: #666;\n",
       "  --sklearn-color-line: gray;\n",
       "  /* Definition of color scheme for unfitted estimators */\n",
       "  --sklearn-color-unfitted-level-0: #fff5e6;\n",
       "  --sklearn-color-unfitted-level-1: #f6e4d2;\n",
       "  --sklearn-color-unfitted-level-2: #ffe0b3;\n",
       "  --sklearn-color-unfitted-level-3: chocolate;\n",
       "  /* Definition of color scheme for fitted estimators */\n",
       "  --sklearn-color-fitted-level-0: #f0f8ff;\n",
       "  --sklearn-color-fitted-level-1: #d4ebff;\n",
       "  --sklearn-color-fitted-level-2: #b3dbfd;\n",
       "  --sklearn-color-fitted-level-3: cornflowerblue;\n",
       "\n",
       "  /* Specific color for light theme */\n",
       "  --sklearn-color-text-on-default-background: var(--sg-text-color, var(--theme-code-foreground, var(--jp-content-font-color1, black)));\n",
       "  --sklearn-color-background: var(--sg-background-color, var(--theme-background, var(--jp-layout-color0, white)));\n",
       "  --sklearn-color-border-box: var(--sg-text-color, var(--theme-code-foreground, var(--jp-content-font-color1, black)));\n",
       "  --sklearn-color-icon: #696969;\n",
       "\n",
       "  @media (prefers-color-scheme: dark) {\n",
       "    /* Redefinition of color scheme for dark theme */\n",
       "    --sklearn-color-text-on-default-background: var(--sg-text-color, var(--theme-code-foreground, var(--jp-content-font-color1, white)));\n",
       "    --sklearn-color-background: var(--sg-background-color, var(--theme-background, var(--jp-layout-color0, #111)));\n",
       "    --sklearn-color-border-box: var(--sg-text-color, var(--theme-code-foreground, var(--jp-content-font-color1, white)));\n",
       "    --sklearn-color-icon: #878787;\n",
       "  }\n",
       "}\n",
       "\n",
       "#sk-container-id-1 {\n",
       "  color: var(--sklearn-color-text);\n",
       "}\n",
       "\n",
       "#sk-container-id-1 pre {\n",
       "  padding: 0;\n",
       "}\n",
       "\n",
       "#sk-container-id-1 input.sk-hidden--visually {\n",
       "  border: 0;\n",
       "  clip: rect(1px 1px 1px 1px);\n",
       "  clip: rect(1px, 1px, 1px, 1px);\n",
       "  height: 1px;\n",
       "  margin: -1px;\n",
       "  overflow: hidden;\n",
       "  padding: 0;\n",
       "  position: absolute;\n",
       "  width: 1px;\n",
       "}\n",
       "\n",
       "#sk-container-id-1 div.sk-dashed-wrapped {\n",
       "  border: 1px dashed var(--sklearn-color-line);\n",
       "  margin: 0 0.4em 0.5em 0.4em;\n",
       "  box-sizing: border-box;\n",
       "  padding-bottom: 0.4em;\n",
       "  background-color: var(--sklearn-color-background);\n",
       "}\n",
       "\n",
       "#sk-container-id-1 div.sk-container {\n",
       "  /* jupyter's `normalize.less` sets `[hidden] { display: none; }`\n",
       "     but bootstrap.min.css set `[hidden] { display: none !important; }`\n",
       "     so we also need the `!important` here to be able to override the\n",
       "     default hidden behavior on the sphinx rendered scikit-learn.org.\n",
       "     See: https://github.com/scikit-learn/scikit-learn/issues/21755 */\n",
       "  display: inline-block !important;\n",
       "  position: relative;\n",
       "}\n",
       "\n",
       "#sk-container-id-1 div.sk-text-repr-fallback {\n",
       "  display: none;\n",
       "}\n",
       "\n",
       "div.sk-parallel-item,\n",
       "div.sk-serial,\n",
       "div.sk-item {\n",
       "  /* draw centered vertical line to link estimators */\n",
       "  background-image: linear-gradient(var(--sklearn-color-text-on-default-background), var(--sklearn-color-text-on-default-background));\n",
       "  background-size: 2px 100%;\n",
       "  background-repeat: no-repeat;\n",
       "  background-position: center center;\n",
       "}\n",
       "\n",
       "/* Parallel-specific style estimator block */\n",
       "\n",
       "#sk-container-id-1 div.sk-parallel-item::after {\n",
       "  content: \"\";\n",
       "  width: 100%;\n",
       "  border-bottom: 2px solid var(--sklearn-color-text-on-default-background);\n",
       "  flex-grow: 1;\n",
       "}\n",
       "\n",
       "#sk-container-id-1 div.sk-parallel {\n",
       "  display: flex;\n",
       "  align-items: stretch;\n",
       "  justify-content: center;\n",
       "  background-color: var(--sklearn-color-background);\n",
       "  position: relative;\n",
       "}\n",
       "\n",
       "#sk-container-id-1 div.sk-parallel-item {\n",
       "  display: flex;\n",
       "  flex-direction: column;\n",
       "}\n",
       "\n",
       "#sk-container-id-1 div.sk-parallel-item:first-child::after {\n",
       "  align-self: flex-end;\n",
       "  width: 50%;\n",
       "}\n",
       "\n",
       "#sk-container-id-1 div.sk-parallel-item:last-child::after {\n",
       "  align-self: flex-start;\n",
       "  width: 50%;\n",
       "}\n",
       "\n",
       "#sk-container-id-1 div.sk-parallel-item:only-child::after {\n",
       "  width: 0;\n",
       "}\n",
       "\n",
       "/* Serial-specific style estimator block */\n",
       "\n",
       "#sk-container-id-1 div.sk-serial {\n",
       "  display: flex;\n",
       "  flex-direction: column;\n",
       "  align-items: center;\n",
       "  background-color: var(--sklearn-color-background);\n",
       "  padding-right: 1em;\n",
       "  padding-left: 1em;\n",
       "}\n",
       "\n",
       "\n",
       "/* Toggleable style: style used for estimator/Pipeline/ColumnTransformer box that is\n",
       "clickable and can be expanded/collapsed.\n",
       "- Pipeline and ColumnTransformer use this feature and define the default style\n",
       "- Estimators will overwrite some part of the style using the `sk-estimator` class\n",
       "*/\n",
       "\n",
       "/* Pipeline and ColumnTransformer style (default) */\n",
       "\n",
       "#sk-container-id-1 div.sk-toggleable {\n",
       "  /* Default theme specific background. It is overwritten whether we have a\n",
       "  specific estimator or a Pipeline/ColumnTransformer */\n",
       "  background-color: var(--sklearn-color-background);\n",
       "}\n",
       "\n",
       "/* Toggleable label */\n",
       "#sk-container-id-1 label.sk-toggleable__label {\n",
       "  cursor: pointer;\n",
       "  display: flex;\n",
       "  width: 100%;\n",
       "  margin-bottom: 0;\n",
       "  padding: 0.5em;\n",
       "  box-sizing: border-box;\n",
       "  text-align: center;\n",
       "  align-items: start;\n",
       "  justify-content: space-between;\n",
       "  gap: 0.5em;\n",
       "}\n",
       "\n",
       "#sk-container-id-1 label.sk-toggleable__label .caption {\n",
       "  font-size: 0.6rem;\n",
       "  font-weight: lighter;\n",
       "  color: var(--sklearn-color-text-muted);\n",
       "}\n",
       "\n",
       "#sk-container-id-1 label.sk-toggleable__label-arrow:before {\n",
       "  /* Arrow on the left of the label */\n",
       "  content: \"▸\";\n",
       "  float: left;\n",
       "  margin-right: 0.25em;\n",
       "  color: var(--sklearn-color-icon);\n",
       "}\n",
       "\n",
       "#sk-container-id-1 label.sk-toggleable__label-arrow:hover:before {\n",
       "  color: var(--sklearn-color-text);\n",
       "}\n",
       "\n",
       "/* Toggleable content - dropdown */\n",
       "\n",
       "#sk-container-id-1 div.sk-toggleable__content {\n",
       "  max-height: 0;\n",
       "  max-width: 0;\n",
       "  overflow: hidden;\n",
       "  text-align: left;\n",
       "  /* unfitted */\n",
       "  background-color: var(--sklearn-color-unfitted-level-0);\n",
       "}\n",
       "\n",
       "#sk-container-id-1 div.sk-toggleable__content.fitted {\n",
       "  /* fitted */\n",
       "  background-color: var(--sklearn-color-fitted-level-0);\n",
       "}\n",
       "\n",
       "#sk-container-id-1 div.sk-toggleable__content pre {\n",
       "  margin: 0.2em;\n",
       "  border-radius: 0.25em;\n",
       "  color: var(--sklearn-color-text);\n",
       "  /* unfitted */\n",
       "  background-color: var(--sklearn-color-unfitted-level-0);\n",
       "}\n",
       "\n",
       "#sk-container-id-1 div.sk-toggleable__content.fitted pre {\n",
       "  /* unfitted */\n",
       "  background-color: var(--sklearn-color-fitted-level-0);\n",
       "}\n",
       "\n",
       "#sk-container-id-1 input.sk-toggleable__control:checked~div.sk-toggleable__content {\n",
       "  /* Expand drop-down */\n",
       "  max-height: 200px;\n",
       "  max-width: 100%;\n",
       "  overflow: auto;\n",
       "}\n",
       "\n",
       "#sk-container-id-1 input.sk-toggleable__control:checked~label.sk-toggleable__label-arrow:before {\n",
       "  content: \"▾\";\n",
       "}\n",
       "\n",
       "/* Pipeline/ColumnTransformer-specific style */\n",
       "\n",
       "#sk-container-id-1 div.sk-label input.sk-toggleable__control:checked~label.sk-toggleable__label {\n",
       "  color: var(--sklearn-color-text);\n",
       "  background-color: var(--sklearn-color-unfitted-level-2);\n",
       "}\n",
       "\n",
       "#sk-container-id-1 div.sk-label.fitted input.sk-toggleable__control:checked~label.sk-toggleable__label {\n",
       "  background-color: var(--sklearn-color-fitted-level-2);\n",
       "}\n",
       "\n",
       "/* Estimator-specific style */\n",
       "\n",
       "/* Colorize estimator box */\n",
       "#sk-container-id-1 div.sk-estimator input.sk-toggleable__control:checked~label.sk-toggleable__label {\n",
       "  /* unfitted */\n",
       "  background-color: var(--sklearn-color-unfitted-level-2);\n",
       "}\n",
       "\n",
       "#sk-container-id-1 div.sk-estimator.fitted input.sk-toggleable__control:checked~label.sk-toggleable__label {\n",
       "  /* fitted */\n",
       "  background-color: var(--sklearn-color-fitted-level-2);\n",
       "}\n",
       "\n",
       "#sk-container-id-1 div.sk-label label.sk-toggleable__label,\n",
       "#sk-container-id-1 div.sk-label label {\n",
       "  /* The background is the default theme color */\n",
       "  color: var(--sklearn-color-text-on-default-background);\n",
       "}\n",
       "\n",
       "/* On hover, darken the color of the background */\n",
       "#sk-container-id-1 div.sk-label:hover label.sk-toggleable__label {\n",
       "  color: var(--sklearn-color-text);\n",
       "  background-color: var(--sklearn-color-unfitted-level-2);\n",
       "}\n",
       "\n",
       "/* Label box, darken color on hover, fitted */\n",
       "#sk-container-id-1 div.sk-label.fitted:hover label.sk-toggleable__label.fitted {\n",
       "  color: var(--sklearn-color-text);\n",
       "  background-color: var(--sklearn-color-fitted-level-2);\n",
       "}\n",
       "\n",
       "/* Estimator label */\n",
       "\n",
       "#sk-container-id-1 div.sk-label label {\n",
       "  font-family: monospace;\n",
       "  font-weight: bold;\n",
       "  display: inline-block;\n",
       "  line-height: 1.2em;\n",
       "}\n",
       "\n",
       "#sk-container-id-1 div.sk-label-container {\n",
       "  text-align: center;\n",
       "}\n",
       "\n",
       "/* Estimator-specific */\n",
       "#sk-container-id-1 div.sk-estimator {\n",
       "  font-family: monospace;\n",
       "  border: 1px dotted var(--sklearn-color-border-box);\n",
       "  border-radius: 0.25em;\n",
       "  box-sizing: border-box;\n",
       "  margin-bottom: 0.5em;\n",
       "  /* unfitted */\n",
       "  background-color: var(--sklearn-color-unfitted-level-0);\n",
       "}\n",
       "\n",
       "#sk-container-id-1 div.sk-estimator.fitted {\n",
       "  /* fitted */\n",
       "  background-color: var(--sklearn-color-fitted-level-0);\n",
       "}\n",
       "\n",
       "/* on hover */\n",
       "#sk-container-id-1 div.sk-estimator:hover {\n",
       "  /* unfitted */\n",
       "  background-color: var(--sklearn-color-unfitted-level-2);\n",
       "}\n",
       "\n",
       "#sk-container-id-1 div.sk-estimator.fitted:hover {\n",
       "  /* fitted */\n",
       "  background-color: var(--sklearn-color-fitted-level-2);\n",
       "}\n",
       "\n",
       "/* Specification for estimator info (e.g. \"i\" and \"?\") */\n",
       "\n",
       "/* Common style for \"i\" and \"?\" */\n",
       "\n",
       ".sk-estimator-doc-link,\n",
       "a:link.sk-estimator-doc-link,\n",
       "a:visited.sk-estimator-doc-link {\n",
       "  float: right;\n",
       "  font-size: smaller;\n",
       "  line-height: 1em;\n",
       "  font-family: monospace;\n",
       "  background-color: var(--sklearn-color-background);\n",
       "  border-radius: 1em;\n",
       "  height: 1em;\n",
       "  width: 1em;\n",
       "  text-decoration: none !important;\n",
       "  margin-left: 0.5em;\n",
       "  text-align: center;\n",
       "  /* unfitted */\n",
       "  border: var(--sklearn-color-unfitted-level-1) 1pt solid;\n",
       "  color: var(--sklearn-color-unfitted-level-1);\n",
       "}\n",
       "\n",
       ".sk-estimator-doc-link.fitted,\n",
       "a:link.sk-estimator-doc-link.fitted,\n",
       "a:visited.sk-estimator-doc-link.fitted {\n",
       "  /* fitted */\n",
       "  border: var(--sklearn-color-fitted-level-1) 1pt solid;\n",
       "  color: var(--sklearn-color-fitted-level-1);\n",
       "}\n",
       "\n",
       "/* On hover */\n",
       "div.sk-estimator:hover .sk-estimator-doc-link:hover,\n",
       ".sk-estimator-doc-link:hover,\n",
       "div.sk-label-container:hover .sk-estimator-doc-link:hover,\n",
       ".sk-estimator-doc-link:hover {\n",
       "  /* unfitted */\n",
       "  background-color: var(--sklearn-color-unfitted-level-3);\n",
       "  color: var(--sklearn-color-background);\n",
       "  text-decoration: none;\n",
       "}\n",
       "\n",
       "div.sk-estimator.fitted:hover .sk-estimator-doc-link.fitted:hover,\n",
       ".sk-estimator-doc-link.fitted:hover,\n",
       "div.sk-label-container:hover .sk-estimator-doc-link.fitted:hover,\n",
       ".sk-estimator-doc-link.fitted:hover {\n",
       "  /* fitted */\n",
       "  background-color: var(--sklearn-color-fitted-level-3);\n",
       "  color: var(--sklearn-color-background);\n",
       "  text-decoration: none;\n",
       "}\n",
       "\n",
       "/* Span, style for the box shown on hovering the info icon */\n",
       ".sk-estimator-doc-link span {\n",
       "  display: none;\n",
       "  z-index: 9999;\n",
       "  position: relative;\n",
       "  font-weight: normal;\n",
       "  right: .2ex;\n",
       "  padding: .5ex;\n",
       "  margin: .5ex;\n",
       "  width: min-content;\n",
       "  min-width: 20ex;\n",
       "  max-width: 50ex;\n",
       "  color: var(--sklearn-color-text);\n",
       "  box-shadow: 2pt 2pt 4pt #999;\n",
       "  /* unfitted */\n",
       "  background: var(--sklearn-color-unfitted-level-0);\n",
       "  border: .5pt solid var(--sklearn-color-unfitted-level-3);\n",
       "}\n",
       "\n",
       ".sk-estimator-doc-link.fitted span {\n",
       "  /* fitted */\n",
       "  background: var(--sklearn-color-fitted-level-0);\n",
       "  border: var(--sklearn-color-fitted-level-3);\n",
       "}\n",
       "\n",
       ".sk-estimator-doc-link:hover span {\n",
       "  display: block;\n",
       "}\n",
       "\n",
       "/* \"?\"-specific style due to the `<a>` HTML tag */\n",
       "\n",
       "#sk-container-id-1 a.estimator_doc_link {\n",
       "  float: right;\n",
       "  font-size: 1rem;\n",
       "  line-height: 1em;\n",
       "  font-family: monospace;\n",
       "  background-color: var(--sklearn-color-background);\n",
       "  border-radius: 1rem;\n",
       "  height: 1rem;\n",
       "  width: 1rem;\n",
       "  text-decoration: none;\n",
       "  /* unfitted */\n",
       "  color: var(--sklearn-color-unfitted-level-1);\n",
       "  border: var(--sklearn-color-unfitted-level-1) 1pt solid;\n",
       "}\n",
       "\n",
       "#sk-container-id-1 a.estimator_doc_link.fitted {\n",
       "  /* fitted */\n",
       "  border: var(--sklearn-color-fitted-level-1) 1pt solid;\n",
       "  color: var(--sklearn-color-fitted-level-1);\n",
       "}\n",
       "\n",
       "/* On hover */\n",
       "#sk-container-id-1 a.estimator_doc_link:hover {\n",
       "  /* unfitted */\n",
       "  background-color: var(--sklearn-color-unfitted-level-3);\n",
       "  color: var(--sklearn-color-background);\n",
       "  text-decoration: none;\n",
       "}\n",
       "\n",
       "#sk-container-id-1 a.estimator_doc_link.fitted:hover {\n",
       "  /* fitted */\n",
       "  background-color: var(--sklearn-color-fitted-level-3);\n",
       "}\n",
       "</style><div id=\"sk-container-id-1\" class=\"sk-top-container\"><div class=\"sk-text-repr-fallback\"><pre>GridSearchCV(cv=5,\n",
       "             estimator=LogisticRegression(max_iter=1000, solver=&#x27;liblinear&#x27;),\n",
       "             n_jobs=-1,\n",
       "             param_grid={&#x27;C&#x27;: [0.01, 0.1, 1, 10, 100, 1000],\n",
       "                         &#x27;penalty&#x27;: [&#x27;l1&#x27;, &#x27;l2&#x27;]},\n",
       "             verbose=1)</pre><b>In a Jupyter environment, please rerun this cell to show the HTML representation or trust the notebook. <br />On GitHub, the HTML representation is unable to render, please try loading this page with nbviewer.org.</b></div><div class=\"sk-container\" hidden><div class=\"sk-item sk-dashed-wrapped\"><div class=\"sk-label-container\"><div class=\"sk-label fitted sk-toggleable\"><input class=\"sk-toggleable__control sk-hidden--visually\" id=\"sk-estimator-id-1\" type=\"checkbox\" ><label for=\"sk-estimator-id-1\" class=\"sk-toggleable__label fitted sk-toggleable__label-arrow\"><div><div>GridSearchCV</div></div><div><a class=\"sk-estimator-doc-link fitted\" rel=\"noreferrer\" target=\"_blank\" href=\"https://scikit-learn.org/1.6/modules/generated/sklearn.model_selection.GridSearchCV.html\">?<span>Documentation for GridSearchCV</span></a><span class=\"sk-estimator-doc-link fitted\">i<span>Fitted</span></span></div></label><div class=\"sk-toggleable__content fitted\"><pre>GridSearchCV(cv=5,\n",
       "             estimator=LogisticRegression(max_iter=1000, solver=&#x27;liblinear&#x27;),\n",
       "             n_jobs=-1,\n",
       "             param_grid={&#x27;C&#x27;: [0.01, 0.1, 1, 10, 100, 1000],\n",
       "                         &#x27;penalty&#x27;: [&#x27;l1&#x27;, &#x27;l2&#x27;]},\n",
       "             verbose=1)</pre></div> </div></div><div class=\"sk-parallel\"><div class=\"sk-parallel-item\"><div class=\"sk-item\"><div class=\"sk-label-container\"><div class=\"sk-label fitted sk-toggleable\"><input class=\"sk-toggleable__control sk-hidden--visually\" id=\"sk-estimator-id-2\" type=\"checkbox\" ><label for=\"sk-estimator-id-2\" class=\"sk-toggleable__label fitted sk-toggleable__label-arrow\"><div><div>best_estimator_: LogisticRegression</div></div></label><div class=\"sk-toggleable__content fitted\"><pre>LogisticRegression(C=1, max_iter=1000, penalty=&#x27;l1&#x27;, solver=&#x27;liblinear&#x27;)</pre></div> </div></div><div class=\"sk-serial\"><div class=\"sk-item\"><div class=\"sk-estimator fitted sk-toggleable\"><input class=\"sk-toggleable__control sk-hidden--visually\" id=\"sk-estimator-id-3\" type=\"checkbox\" ><label for=\"sk-estimator-id-3\" class=\"sk-toggleable__label fitted sk-toggleable__label-arrow\"><div><div>LogisticRegression</div></div><div><a class=\"sk-estimator-doc-link fitted\" rel=\"noreferrer\" target=\"_blank\" href=\"https://scikit-learn.org/1.6/modules/generated/sklearn.linear_model.LogisticRegression.html\">?<span>Documentation for LogisticRegression</span></a></div></label><div class=\"sk-toggleable__content fitted\"><pre>LogisticRegression(C=1, max_iter=1000, penalty=&#x27;l1&#x27;, solver=&#x27;liblinear&#x27;)</pre></div> </div></div></div></div></div></div></div></div></div>"
      ],
      "text/plain": [
       "GridSearchCV(cv=5,\n",
       "             estimator=LogisticRegression(max_iter=1000, solver='liblinear'),\n",
       "             n_jobs=-1,\n",
       "             param_grid={'C': [0.01, 0.1, 1, 10, 100, 1000],\n",
       "                         'penalty': ['l1', 'l2']},\n",
       "             verbose=1)"
      ]
     },
     "execution_count": 18,
     "metadata": {},
     "output_type": "execute_result"
    }
   ],
   "source": [
    "grid_search.fit(scaled_X_train, y_train)"
   ]
  },
  {
   "cell_type": "code",
   "execution_count": null,
   "metadata": {},
   "outputs": [
    {
     "data": {
      "text/plain": [
       "{'C': 1, 'penalty': 'l1'}"
      ]
     },
     "execution_count": 19,
     "metadata": {},
     "output_type": "execute_result"
    }
   ],
   "source": [
    "grid_search.best_params_"
   ]
  },
  {
   "cell_type": "code",
   "execution_count": null,
   "metadata": {},
   "outputs": [],
   "source": [
    "y_pred = grid_search.predict(scaled_X_test)"
   ]
  },
  {
   "cell_type": "code",
   "execution_count": 21,
   "metadata": {},
   "outputs": [
    {
     "name": "stdout",
     "output_type": "stream",
     "text": [
      "Accuracy: 0.9452554744525548\n",
      "Classification Report:\n",
      "              precision    recall  f1-score   support\n",
      "\n",
      "     hindgut       1.00      0.73      0.85        56\n",
      "        milk       0.91      1.00      0.96       160\n",
      "       rumen       1.00      1.00      1.00        58\n",
      "\n",
      "    accuracy                           0.95       274\n",
      "   macro avg       0.97      0.91      0.93       274\n",
      "weighted avg       0.95      0.95      0.94       274\n",
      "\n"
     ]
    }
   ],
   "source": [
    "accuracy = accuracy_score(y_test, y_pred)\n",
    "report = classification_report(y_test, y_pred)\n",
    "\n",
    "print(f\"Accuracy: {accuracy}\")\n",
    "print(\"Classification Report:\")\n",
    "print(report)"
   ]
  },
  {
   "cell_type": "code",
   "execution_count": 22,
   "metadata": {},
   "outputs": [
    {
     "data": {
      "image/png": "[encoded data removed]",
      "text/plain": [
       "<Figure size 640x480 with 2 Axes>"
      ]
     },
     "metadata": {},
     "output_type": "display_data"
    }
   ],
   "source": [
    "cm = confusion_matrix(y_test, y_pred)\n",
    "disp = ConfusionMatrixDisplay(confusion_matrix=cm)\n",
    "disp.plot()\n",
    "plt.show()"
   ]
  },
  {
   "cell_type": "markdown",
   "metadata": {},
   "source": [
    "Get the best model and save it to a file:"
   ]
  },
  {
   "cell_type": "code",
   "execution_count": 23,
   "metadata": {},
   "outputs": [
    {
     "data": {
      "text/plain": [
       "['/home/cozzip/deep_micro_core/notebooks/logistic_regression_model.pkl']"
      ]
     },
     "execution_count": 23,
     "metadata": {},
     "output_type": "execute_result"
    }
   ],
   "source": [
    "best_model = grid_search.best_estimator_\n",
    "joblib.dump(best_model, project_directory / \"notebooks/logistic_regression_model.pkl\")"
   ]
  },
  {
   "cell_type": "markdown",
   "metadata": {},
   "source": [
    "Now try to collect the coefficients to identify the features that are more important for the model."
   ]
  },
  {
   "cell_type": "code",
   "execution_count": 24,
   "metadata": {},
   "outputs": [
    {
     "data": {
      "application/vnd.microsoft.datawrangler.viewer.v0+json": {
       "columns": [
        {
         "name": "Feature ID",
         "rawType": "object",
         "type": "string"
        },
        {
         "name": "Coefficient",
         "rawType": "float64",
         "type": "float"
        },
        {
         "name": "Importance",
         "rawType": "float64",
         "type": "float"
        }
       ],
       "conversionMethod": "pd.DataFrame",
       "ref": "bbcf42c4-82c8-42dd-b3fe-0779fc56ce09",
       "rows": [
        [
         "a41afac2212797bae138bb82c0a6e81d",
         "0.35379167201948836",
         "0.35379167201948836"
        ],
        [
         "31a3429705672357d6e8791cc0f77794",
         "0.3163085691772649",
         "0.3163085691772649"
        ],
        [
         "479e6d25736150eb5f2dfef3f3f993ac",
         "0.29986113896107663",
         "0.29986113896107663"
        ],
        [
         "9688f7cbd057b6f5396268aa7dec3038",
         "0.2919096203488083",
         "0.2919096203488083"
        ],
        [
         "ea7d53b36bda3eaeefb0f99d9963cc43",
         "0.2804486709879498",
         "0.2804486709879498"
        ],
        [
         "d110eaf206cfa20b1d8f7eb387c0f56d",
         "0.2637384636088636",
         "0.2637384636088636"
        ],
        [
         "a2fbe9519c741cbd30f08567fe3e2ef8",
         "0.2256263378942998",
         "0.2256263378942998"
        ],
        [
         "118753b46900f07900a94c5472e535d5",
         "0.21093356655493148",
         "0.21093356655493148"
        ],
        [
         "e455e29ae32148a0e50525b9613124dd",
         "0.2029130444644116",
         "0.2029130444644116"
        ],
        [
         "120f5058593881ee1a1b505ad34fc1d6",
         "0.17608331926891752",
         "0.17608331926891752"
        ]
       ],
       "shape": {
        "columns": 2,
        "rows": 10
       }
      },
      "text/html": [
       "<div>\n",
       "<style scoped>\n",
       "    .dataframe tbody tr th:only-of-type {\n",
       "        vertical-align: middle;\n",
       "    }\n",
       "\n",
       "    .dataframe tbody tr th {\n",
       "        vertical-align: top;\n",
       "    }\n",
       "\n",
       "    .dataframe thead th {\n",
       "        text-align: right;\n",
       "    }\n",
       "</style>\n",
       "<table border=\"1\" class=\"dataframe\">\n",
       "  <thead>\n",
       "    <tr style=\"text-align: right;\">\n",
       "      <th></th>\n",
       "      <th>Coefficient</th>\n",
       "      <th>Importance</th>\n",
       "    </tr>\n",
       "    <tr>\n",
       "      <th>Feature ID</th>\n",
       "      <th></th>\n",
       "      <th></th>\n",
       "    </tr>\n",
       "  </thead>\n",
       "  <tbody>\n",
       "    <tr>\n",
       "      <th>a41afac2212797bae138bb82c0a6e81d</th>\n",
       "      <td>0.353792</td>\n",
       "      <td>0.353792</td>\n",
       "    </tr>\n",
       "    <tr>\n",
       "      <th>31a3429705672357d6e8791cc0f77794</th>\n",
       "      <td>0.316309</td>\n",
       "      <td>0.316309</td>\n",
       "    </tr>\n",
       "    <tr>\n",
       "      <th>479e6d25736150eb5f2dfef3f3f993ac</th>\n",
       "      <td>0.299861</td>\n",
       "      <td>0.299861</td>\n",
       "    </tr>\n",
       "    <tr>\n",
       "      <th>9688f7cbd057b6f5396268aa7dec3038</th>\n",
       "      <td>0.291910</td>\n",
       "      <td>0.291910</td>\n",
       "    </tr>\n",
       "    <tr>\n",
       "      <th>ea7d53b36bda3eaeefb0f99d9963cc43</th>\n",
       "      <td>0.280449</td>\n",
       "      <td>0.280449</td>\n",
       "    </tr>\n",
       "    <tr>\n",
       "      <th>d110eaf206cfa20b1d8f7eb387c0f56d</th>\n",
       "      <td>0.263738</td>\n",
       "      <td>0.263738</td>\n",
       "    </tr>\n",
       "    <tr>\n",
       "      <th>a2fbe9519c741cbd30f08567fe3e2ef8</th>\n",
       "      <td>0.225626</td>\n",
       "      <td>0.225626</td>\n",
       "    </tr>\n",
       "    <tr>\n",
       "      <th>118753b46900f07900a94c5472e535d5</th>\n",
       "      <td>0.210934</td>\n",
       "      <td>0.210934</td>\n",
       "    </tr>\n",
       "    <tr>\n",
       "      <th>e455e29ae32148a0e50525b9613124dd</th>\n",
       "      <td>0.202913</td>\n",
       "      <td>0.202913</td>\n",
       "    </tr>\n",
       "    <tr>\n",
       "      <th>120f5058593881ee1a1b505ad34fc1d6</th>\n",
       "      <td>0.176083</td>\n",
       "      <td>0.176083</td>\n",
       "    </tr>\n",
       "  </tbody>\n",
       "</table>\n",
       "</div>"
      ],
      "text/plain": [
       "                                  Coefficient  Importance\n",
       "Feature ID                                               \n",
       "a41afac2212797bae138bb82c0a6e81d     0.353792    0.353792\n",
       "31a3429705672357d6e8791cc0f77794     0.316309    0.316309\n",
       "479e6d25736150eb5f2dfef3f3f993ac     0.299861    0.299861\n",
       "9688f7cbd057b6f5396268aa7dec3038     0.291910    0.291910\n",
       "ea7d53b36bda3eaeefb0f99d9963cc43     0.280449    0.280449\n",
       "d110eaf206cfa20b1d8f7eb387c0f56d     0.263738    0.263738\n",
       "a2fbe9519c741cbd30f08567fe3e2ef8     0.225626    0.225626\n",
       "118753b46900f07900a94c5472e535d5     0.210934    0.210934\n",
       "e455e29ae32148a0e50525b9613124dd     0.202913    0.202913\n",
       "120f5058593881ee1a1b505ad34fc1d6     0.176083    0.176083"
      ]
     },
     "execution_count": 24,
     "metadata": {},
     "output_type": "execute_result"
    }
   ],
   "source": [
    "coefficients = best_model.coef_[0]\n",
    "feature_importance = pd.DataFrame({'Feature ID': X.columns, 'Coefficient': coefficients})\n",
    "feature_importance['Importance'] = np.abs(feature_importance['Coefficient'])\n",
    "feature_importance.set_index('Feature ID', inplace=True)\n",
    "feature_importance.sort_values(by='Importance', ascending=False, inplace=True)\n",
    "feature_importance.head(10)"
   ]
  },
  {
   "cell_type": "markdown",
   "metadata": {},
   "source": [
    "try to load the taxononies from file"
   ]
  },
  {
   "cell_type": "code",
   "execution_count": 25,
   "metadata": {},
   "outputs": [
    {
     "data": {
      "application/vnd.microsoft.datawrangler.viewer.v0+json": {
       "columns": [
        {
         "name": "Feature ID",
         "rawType": "object",
         "type": "string"
        },
        {
         "name": "Level_1",
         "rawType": "object",
         "type": "string"
        },
        {
         "name": "Level_2",
         "rawType": "object",
         "type": "string"
        },
        {
         "name": "Level_3",
         "rawType": "object",
         "type": "string"
        },
        {
         "name": "Level_4",
         "rawType": "object",
         "type": "string"
        },
        {
         "name": "Level_5",
         "rawType": "object",
         "type": "string"
        },
        {
         "name": "Level_6",
         "rawType": "object",
         "type": "string"
        },
        {
         "name": "Level_7",
         "rawType": "object",
         "type": "string"
        },
        {
         "name": "Level_8",
         "rawType": "object",
         "type": "string"
        }
       ],
       "conversionMethod": "pd.DataFrame",
       "ref": "180f4e94-2c23-47bf-9791-986ff1afd957",
       "rows": [
        [
         "00005da053b2c7b99c1f46889cbd7d33",
         "Bacteria",
         "Proteobacteria",
         "Alphaproteobacteria",
         "Rhodospirillales",
         "",
         "",
         "",
         ""
        ],
        [
         "000064ab480f315e268221d5ee0f9297",
         "Bacteria",
         "Firmicutes",
         "Negativicutes",
         "Veillonellales-Selenomonadales",
         "Selenomonadaceae",
         "Anaerovibrio",
         "",
         ""
        ],
        [
         "0000e116cc2f5406e876821a7c052ded",
         "Bacteria",
         "Chloroflexi",
         "Chloroflexia",
         "Chloroflexales",
         "Roseiflexaceae",
         "",
         "",
         ""
        ],
        [
         "0002114dfc1325eafec7bed8250435ea",
         "Bacteria",
         "Bacteroidota",
         "Bacteroidia",
         "Bacteroidales",
         "",
         "",
         "",
         ""
        ],
        [
         "0002b1df012f092104af19e6cdb26d85",
         "Bacteria",
         "Bacteroidota",
         "Bacteroidia",
         "Bacteroidales",
         "Prevotellaceae",
         "Prevotellaceae UCG-004",
         "",
         ""
        ]
       ],
       "shape": {
        "columns": 8,
        "rows": 5
       }
      },
      "text/html": [
       "<div>\n",
       "<style scoped>\n",
       "    .dataframe tbody tr th:only-of-type {\n",
       "        vertical-align: middle;\n",
       "    }\n",
       "\n",
       "    .dataframe tbody tr th {\n",
       "        vertical-align: top;\n",
       "    }\n",
       "\n",
       "    .dataframe thead th {\n",
       "        text-align: right;\n",
       "    }\n",
       "</style>\n",
       "<table border=\"1\" class=\"dataframe\">\n",
       "  <thead>\n",
       "    <tr style=\"text-align: right;\">\n",
       "      <th></th>\n",
       "      <th>Level_1</th>\n",
       "      <th>Level_2</th>\n",
       "      <th>Level_3</th>\n",
       "      <th>Level_4</th>\n",
       "      <th>Level_5</th>\n",
       "      <th>Level_6</th>\n",
       "      <th>Level_7</th>\n",
       "      <th>Level_8</th>\n",
       "    </tr>\n",
       "    <tr>\n",
       "      <th>Feature ID</th>\n",
       "      <th></th>\n",
       "      <th></th>\n",
       "      <th></th>\n",
       "      <th></th>\n",
       "      <th></th>\n",
       "      <th></th>\n",
       "      <th></th>\n",
       "      <th></th>\n",
       "    </tr>\n",
       "  </thead>\n",
       "  <tbody>\n",
       "    <tr>\n",
       "      <th>00005da053b2c7b99c1f46889cbd7d33</th>\n",
       "      <td>Bacteria</td>\n",
       "      <td>Proteobacteria</td>\n",
       "      <td>Alphaproteobacteria</td>\n",
       "      <td>Rhodospirillales</td>\n",
       "      <td></td>\n",
       "      <td></td>\n",
       "      <td></td>\n",
       "      <td></td>\n",
       "    </tr>\n",
       "    <tr>\n",
       "      <th>000064ab480f315e268221d5ee0f9297</th>\n",
       "      <td>Bacteria</td>\n",
       "      <td>Firmicutes</td>\n",
       "      <td>Negativicutes</td>\n",
       "      <td>Veillonellales-Selenomonadales</td>\n",
       "      <td>Selenomonadaceae</td>\n",
       "      <td>Anaerovibrio</td>\n",
       "      <td></td>\n",
       "      <td></td>\n",
       "    </tr>\n",
       "    <tr>\n",
       "      <th>0000e116cc2f5406e876821a7c052ded</th>\n",
       "      <td>Bacteria</td>\n",
       "      <td>Chloroflexi</td>\n",
       "      <td>Chloroflexia</td>\n",
       "      <td>Chloroflexales</td>\n",
       "      <td>Roseiflexaceae</td>\n",
       "      <td></td>\n",
       "      <td></td>\n",
       "      <td></td>\n",
       "    </tr>\n",
       "    <tr>\n",
       "      <th>0002114dfc1325eafec7bed8250435ea</th>\n",
       "      <td>Bacteria</td>\n",
       "      <td>Bacteroidota</td>\n",
       "      <td>Bacteroidia</td>\n",
       "      <td>Bacteroidales</td>\n",
       "      <td></td>\n",
       "      <td></td>\n",
       "      <td></td>\n",
       "      <td></td>\n",
       "    </tr>\n",
       "    <tr>\n",
       "      <th>0002b1df012f092104af19e6cdb26d85</th>\n",
       "      <td>Bacteria</td>\n",
       "      <td>Bacteroidota</td>\n",
       "      <td>Bacteroidia</td>\n",
       "      <td>Bacteroidales</td>\n",
       "      <td>Prevotellaceae</td>\n",
       "      <td>Prevotellaceae UCG-004</td>\n",
       "      <td></td>\n",
       "      <td></td>\n",
       "    </tr>\n",
       "  </tbody>\n",
       "</table>\n",
       "</div>"
      ],
      "text/plain": [
       "                                   Level_1         Level_2  \\\n",
       "Feature ID                                                   \n",
       "00005da053b2c7b99c1f46889cbd7d33  Bacteria  Proteobacteria   \n",
       "000064ab480f315e268221d5ee0f9297  Bacteria      Firmicutes   \n",
       "0000e116cc2f5406e876821a7c052ded  Bacteria     Chloroflexi   \n",
       "0002114dfc1325eafec7bed8250435ea  Bacteria    Bacteroidota   \n",
       "0002b1df012f092104af19e6cdb26d85  Bacteria    Bacteroidota   \n",
       "\n",
       "                                              Level_3  \\\n",
       "Feature ID                                              \n",
       "00005da053b2c7b99c1f46889cbd7d33  Alphaproteobacteria   \n",
       "000064ab480f315e268221d5ee0f9297        Negativicutes   \n",
       "0000e116cc2f5406e876821a7c052ded         Chloroflexia   \n",
       "0002114dfc1325eafec7bed8250435ea          Bacteroidia   \n",
       "0002b1df012f092104af19e6cdb26d85          Bacteroidia   \n",
       "\n",
       "                                                         Level_4  \\\n",
       "Feature ID                                                         \n",
       "00005da053b2c7b99c1f46889cbd7d33                Rhodospirillales   \n",
       "000064ab480f315e268221d5ee0f9297  Veillonellales-Selenomonadales   \n",
       "0000e116cc2f5406e876821a7c052ded                  Chloroflexales   \n",
       "0002114dfc1325eafec7bed8250435ea                   Bacteroidales   \n",
       "0002b1df012f092104af19e6cdb26d85                   Bacteroidales   \n",
       "\n",
       "                                           Level_5                 Level_6  \\\n",
       "Feature ID                                                                   \n",
       "00005da053b2c7b99c1f46889cbd7d33                                             \n",
       "000064ab480f315e268221d5ee0f9297  Selenomonadaceae            Anaerovibrio   \n",
       "0000e116cc2f5406e876821a7c052ded    Roseiflexaceae                           \n",
       "0002114dfc1325eafec7bed8250435ea                                             \n",
       "0002b1df012f092104af19e6cdb26d85    Prevotellaceae  Prevotellaceae UCG-004   \n",
       "\n",
       "                                 Level_7 Level_8  \n",
       "Feature ID                                        \n",
       "00005da053b2c7b99c1f46889cbd7d33                  \n",
       "000064ab480f315e268221d5ee0f9297                  \n",
       "0000e116cc2f5406e876821a7c052ded                  \n",
       "0002114dfc1325eafec7bed8250435ea                  \n",
       "0002b1df012f092104af19e6cdb26d85                  "
      ]
     },
     "execution_count": 25,
     "metadata": {},
     "output_type": "execute_result"
    }
   ],
   "source": [
    "taxonomy_file = project_directory / \"merged_results/export/taxonomy/taxonomy.tsv\"\n",
    "\n",
    "with open(taxonomy_file, 'r') as handle:\n",
    "    reader = csv.DictReader(handle, delimiter='\\t')\n",
    "    taxonomies = [row for row in reader]\n",
    "\n",
    "taxonomies = {row['Feature ID']: row[\"Taxon\"] for row in taxonomies}\n",
    "taxonomies = {key: value.split(\";\")[:-1] for key, value in taxonomies.items()}\n",
    "taxonomies = pd.DataFrame.from_dict(taxonomies, orient='index', columns=[f\"Level_{i}\" for i in range(1, 9)])\n",
    "taxonomies.index.name = \"Feature ID\"\n",
    "taxonomies.head()"
   ]
  },
  {
   "cell_type": "code",
   "execution_count": 26,
   "metadata": {},
   "outputs": [
    {
     "data": {
      "application/vnd.microsoft.datawrangler.viewer.v0+json": {
       "columns": [
        {
         "name": "Feature ID",
         "rawType": "object",
         "type": "string"
        },
        {
         "name": "Coefficient",
         "rawType": "float64",
         "type": "float"
        },
        {
         "name": "Importance",
         "rawType": "float64",
         "type": "float"
        },
        {
         "name": "Level_1",
         "rawType": "object",
         "type": "string"
        },
        {
         "name": "Level_2",
         "rawType": "object",
         "type": "string"
        },
        {
         "name": "Level_3",
         "rawType": "object",
         "type": "string"
        },
        {
         "name": "Level_4",
         "rawType": "object",
         "type": "string"
        },
        {
         "name": "Level_5",
         "rawType": "object",
         "type": "string"
        },
        {
         "name": "Level_6",
         "rawType": "object",
         "type": "string"
        },
        {
         "name": "Level_7",
         "rawType": "object",
         "type": "string"
        },
        {
         "name": "Level_8",
         "rawType": "object",
         "type": "string"
        }
       ],
       "conversionMethod": "pd.DataFrame",
       "ref": "9bcc0725-12bd-436e-a791-deea17ac1fe1",
       "rows": [
        [
         "a41afac2212797bae138bb82c0a6e81d",
         "0.35379167201948836",
         "0.35379167201948836",
         "Bacteria",
         "Bacteroidota",
         "Bacteroidia",
         "Bacteroidales",
         "Bacteroidaceae",
         "Bacteroides",
         "",
         ""
        ],
        [
         "31a3429705672357d6e8791cc0f77794",
         "0.3163085691772649",
         "0.3163085691772649",
         "Bacteria",
         "Bacteroidota",
         "Bacteroidia",
         "Bacteroidales",
         "Bacteroidaceae",
         "Bacteroides",
         "",
         ""
        ],
        [
         "479e6d25736150eb5f2dfef3f3f993ac",
         "0.29986113896107663",
         "0.29986113896107663",
         "Bacteria",
         "Firmicutes",
         "Clostridia",
         "Oscillospirales",
         "UCG-010",
         "",
         "",
         ""
        ],
        [
         "9688f7cbd057b6f5396268aa7dec3038",
         "0.2919096203488083",
         "0.2919096203488083",
         "Bacteria",
         "Bacteroidota",
         "Bacteroidia",
         "Bacteroidales",
         "Bacteroidaceae",
         "Bacteroides",
         "",
         ""
        ],
        [
         "ea7d53b36bda3eaeefb0f99d9963cc43",
         "0.2804486709879498",
         "0.2804486709879498",
         "Bacteria",
         "Bacteroidota",
         "Bacteroidia",
         "Bacteroidales",
         "Bacteroidaceae",
         "Bacteroides",
         "",
         ""
        ]
       ],
       "shape": {
        "columns": 10,
        "rows": 5
       }
      },
      "text/html": [
       "<div>\n",
       "<style scoped>\n",
       "    .dataframe tbody tr th:only-of-type {\n",
       "        vertical-align: middle;\n",
       "    }\n",
       "\n",
       "    .dataframe tbody tr th {\n",
       "        vertical-align: top;\n",
       "    }\n",
       "\n",
       "    .dataframe thead th {\n",
       "        text-align: right;\n",
       "    }\n",
       "</style>\n",
       "<table border=\"1\" class=\"dataframe\">\n",
       "  <thead>\n",
       "    <tr style=\"text-align: right;\">\n",
       "      <th></th>\n",
       "      <th>Coefficient</th>\n",
       "      <th>Importance</th>\n",
       "      <th>Level_1</th>\n",
       "      <th>Level_2</th>\n",
       "      <th>Level_3</th>\n",
       "      <th>Level_4</th>\n",
       "      <th>Level_5</th>\n",
       "      <th>Level_6</th>\n",
       "      <th>Level_7</th>\n",
       "      <th>Level_8</th>\n",
       "    </tr>\n",
       "    <tr>\n",
       "      <th>Feature ID</th>\n",
       "      <th></th>\n",
       "      <th></th>\n",
       "      <th></th>\n",
       "      <th></th>\n",
       "      <th></th>\n",
       "      <th></th>\n",
       "      <th></th>\n",
       "      <th></th>\n",
       "      <th></th>\n",
       "      <th></th>\n",
       "    </tr>\n",
       "  </thead>\n",
       "  <tbody>\n",
       "    <tr>\n",
       "      <th>a41afac2212797bae138bb82c0a6e81d</th>\n",
       "      <td>0.353792</td>\n",
       "      <td>0.353792</td>\n",
       "      <td>Bacteria</td>\n",
       "      <td>Bacteroidota</td>\n",
       "      <td>Bacteroidia</td>\n",
       "      <td>Bacteroidales</td>\n",
       "      <td>Bacteroidaceae</td>\n",
       "      <td>Bacteroides</td>\n",
       "      <td></td>\n",
       "      <td></td>\n",
       "    </tr>\n",
       "    <tr>\n",
       "      <th>31a3429705672357d6e8791cc0f77794</th>\n",
       "      <td>0.316309</td>\n",
       "      <td>0.316309</td>\n",
       "      <td>Bacteria</td>\n",
       "      <td>Bacteroidota</td>\n",
       "      <td>Bacteroidia</td>\n",
       "      <td>Bacteroidales</td>\n",
       "      <td>Bacteroidaceae</td>\n",
       "      <td>Bacteroides</td>\n",
       "      <td></td>\n",
       "      <td></td>\n",
       "    </tr>\n",
       "    <tr>\n",
       "      <th>479e6d25736150eb5f2dfef3f3f993ac</th>\n",
       "      <td>0.299861</td>\n",
       "      <td>0.299861</td>\n",
       "      <td>Bacteria</td>\n",
       "      <td>Firmicutes</td>\n",
       "      <td>Clostridia</td>\n",
       "      <td>Oscillospirales</td>\n",
       "      <td>UCG-010</td>\n",
       "      <td></td>\n",
       "      <td></td>\n",
       "      <td></td>\n",
       "    </tr>\n",
       "    <tr>\n",
       "      <th>9688f7cbd057b6f5396268aa7dec3038</th>\n",
       "      <td>0.291910</td>\n",
       "      <td>0.291910</td>\n",
       "      <td>Bacteria</td>\n",
       "      <td>Bacteroidota</td>\n",
       "      <td>Bacteroidia</td>\n",
       "      <td>Bacteroidales</td>\n",
       "      <td>Bacteroidaceae</td>\n",
       "      <td>Bacteroides</td>\n",
       "      <td></td>\n",
       "      <td></td>\n",
       "    </tr>\n",
       "    <tr>\n",
       "      <th>ea7d53b36bda3eaeefb0f99d9963cc43</th>\n",
       "      <td>0.280449</td>\n",
       "      <td>0.280449</td>\n",
       "      <td>Bacteria</td>\n",
       "      <td>Bacteroidota</td>\n",
       "      <td>Bacteroidia</td>\n",
       "      <td>Bacteroidales</td>\n",
       "      <td>Bacteroidaceae</td>\n",
       "      <td>Bacteroides</td>\n",
       "      <td></td>\n",
       "      <td></td>\n",
       "    </tr>\n",
       "  </tbody>\n",
       "</table>\n",
       "</div>"
      ],
      "text/plain": [
       "                                  Coefficient  Importance   Level_1  \\\n",
       "Feature ID                                                            \n",
       "a41afac2212797bae138bb82c0a6e81d     0.353792    0.353792  Bacteria   \n",
       "31a3429705672357d6e8791cc0f77794     0.316309    0.316309  Bacteria   \n",
       "479e6d25736150eb5f2dfef3f3f993ac     0.299861    0.299861  Bacteria   \n",
       "9688f7cbd057b6f5396268aa7dec3038     0.291910    0.291910  Bacteria   \n",
       "ea7d53b36bda3eaeefb0f99d9963cc43     0.280449    0.280449  Bacteria   \n",
       "\n",
       "                                       Level_2      Level_3          Level_4  \\\n",
       "Feature ID                                                                     \n",
       "a41afac2212797bae138bb82c0a6e81d  Bacteroidota  Bacteroidia    Bacteroidales   \n",
       "31a3429705672357d6e8791cc0f77794  Bacteroidota  Bacteroidia    Bacteroidales   \n",
       "479e6d25736150eb5f2dfef3f3f993ac    Firmicutes   Clostridia  Oscillospirales   \n",
       "9688f7cbd057b6f5396268aa7dec3038  Bacteroidota  Bacteroidia    Bacteroidales   \n",
       "ea7d53b36bda3eaeefb0f99d9963cc43  Bacteroidota  Bacteroidia    Bacteroidales   \n",
       "\n",
       "                                         Level_5      Level_6 Level_7 Level_8  \n",
       "Feature ID                                                                     \n",
       "a41afac2212797bae138bb82c0a6e81d  Bacteroidaceae  Bacteroides                  \n",
       "31a3429705672357d6e8791cc0f77794  Bacteroidaceae  Bacteroides                  \n",
       "479e6d25736150eb5f2dfef3f3f993ac         UCG-010                               \n",
       "9688f7cbd057b6f5396268aa7dec3038  Bacteroidaceae  Bacteroides                  \n",
       "ea7d53b36bda3eaeefb0f99d9963cc43  Bacteroidaceae  Bacteroides                  "
      ]
     },
     "execution_count": 26,
     "metadata": {},
     "output_type": "execute_result"
    }
   ],
   "source": [
    "merged_df = feature_importance.merge(taxonomies, left_index=True, right_index=True, how=\"inner\")\n",
    "merged_df.to_csv(project_directory / \"notebooks/feature_importance.csv\", index=False)\n",
    "merged_df.head()"
   ]
  },
  {
   "cell_type": "code",
   "execution_count": null,
   "metadata": {},
   "outputs": [],
   "source": []
  }
 ],
 "metadata": {
  "kernelspec": {
   "display_name": "Python 3 (ipykernel)",
   "language": "python",
   "name": "python3"
  },
  "language_info": {
   "codemirror_mode": {
    "name": "ipython",
    "version": 3
   },
   "file_extension": ".py",
   "mimetype": "text/x-python",
   "name": "python",
   "nbconvert_exporter": "python",
   "pygments_lexer": "ipython3",
   "version": "3.9.18"
  }
 },
 "nbformat": 4,
 "nbformat_minor": 2
}
